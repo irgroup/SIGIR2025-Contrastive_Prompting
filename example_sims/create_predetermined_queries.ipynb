{
 "cells": [
  {
   "cell_type": "code",
   "execution_count": null,
   "metadata": {},
   "outputs": [],
   "source": [
    "import os\n",
    "import re\n",
    "\n",
    "def extract_artificial_queries(directory):\n",
    "    result_dict = {}\n",
    "    for root, dirs, files in os.walk(directory):\n",
    "        for file in files:\n",
    "            if 'artificial' in file and file.endswith('.queries'):\n",
    "                file_path = os.path.join(root, file)\n",
    "                with open(file_path, 'r', encoding='utf-8') as f:\n",
    "                    queries_list = []\n",
    "                    for line in f:\n",
    "                        query = line.strip()\n",
    "                        queries_list.append(query)\n",
    "                    match = re.search(r'-(\\d{3})-', file_path)\n",
    "                    if match:\n",
    "                        number_key = match.group(1)\n",
    "                        result_dict[number_key] = queries_list\n",
    "    return result_dict\n"
   ]
  },
  {
   "cell_type": "code",
   "execution_count": 11,
   "metadata": {},
   "outputs": [],
   "source": [
    "import csv\n",
    "\n",
    "def create_output_file(result_dict, dataset_abbreviation):\n",
    "    # Path for the CSV file\n",
    "    output_csv = f'../simiir/output_queries_{dataset_abbreviation}_artificial.csv'\n",
    "\n",
    "    # Open the CSV file and write the rows\n",
    "    with open(output_csv, mode='w', newline='', encoding='utf-8') as file:\n",
    "        writer = csv.writer(file)\n",
    "        \n",
    "        # Iterate through each topic title in the queries dictionary\n",
    "        for topic_id, queries in result_dict.items():\n",
    "            # Fetch the corresponding topic ID from the topic_id_dict\n",
    "            topic_id = topic_id\n",
    "\n",
    "            # Initialize query ID\n",
    "            qid = 1\n",
    "\n",
    "            # Iterate through each query in the query list\n",
    "            for query in queries:\n",
    "                #print(query[0])\n",
    "                # Write the row to the CSV file\n",
    "                writer.writerow([qid, \"test_user\", topic_id, query])\n",
    "                # Increment the qid for each query within the topic\n",
    "                qid += 1"
   ]
  },
  {
   "cell_type": "code",
   "execution_count": null,
   "metadata": {},
   "outputs": [],
   "source": [
    "dataset_abbreviations = [\"wapo\", \"nyt\"]\n",
    "for i in dataset_abbreviations:\n",
    "    if i == \"wapo\":\n",
    "        directory = f'./output_{i}'\n",
    "    elif i == \"nyt\":\n",
    "        directory = f'./output_{i}' \n",
    "    result_dict = extract_artificial_queries(directory)\n",
    "    create_output_file(result_dict, i)"
   ]
  },
  {
   "cell_type": "code",
   "execution_count": null,
   "metadata": {},
   "outputs": [],
   "source": []
  }
 ],
 "metadata": {
  "kernelspec": {
   "display_name": ".venv",
   "language": "python",
   "name": "python3"
  },
  "language_info": {
   "codemirror_mode": {
    "name": "ipython",
    "version": 3
   },
   "file_extension": ".py",
   "mimetype": "text/x-python",
   "name": "python",
   "nbconvert_exporter": "python",
   "pygments_lexer": "ipython3",
   "version": "3.11.2"
  }
 },
 "nbformat": 4,
 "nbformat_minor": 2
}
