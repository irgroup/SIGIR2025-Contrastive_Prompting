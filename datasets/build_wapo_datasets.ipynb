{
 "cells": [
  {
   "cell_type": "code",
   "execution_count": 1,
   "metadata": {},
   "outputs": [],
   "source": [
    "import ir_datasets\n",
    "dataset_wapo = ir_datasets.load(\"wapo/v2\")"
   ]
  },
  {
   "cell_type": "code",
   "execution_count": 2,
   "metadata": {},
   "outputs": [],
   "source": [
    "docstore_wapo = dataset_wapo.docs_store()"
   ]
  },
  {
   "cell_type": "code",
   "execution_count": 3,
   "metadata": {},
   "outputs": [
    {
     "name": "stderr",
     "output_type": "stream",
     "text": [
      "/tmp/ipykernel_2435169/2060694631.py:3: DeprecationWarning: Call to deprecated function (or staticmethod) started. (use pt.java.started() instead) -- Deprecated since version 0.11.0.\n",
      "  if not pt.started():\n",
      "Java started and loaded: pyterrier.java, pyterrier.terrier.java [version=5.10 (build: craigm 2024-08-22 17:33), helper_version=0.0.8]\n",
      "/tmp/ipykernel_2435169/2060694631.py:4: DeprecationWarning: Call to deprecated method pt.init(). Deprecated since version 0.11.0.\n",
      "java is now started automatically with default settings. To force initialisation early, run:\n",
      "pt.java.init() # optional, forces java initialisation\n",
      "  pt.init()\n"
     ]
    }
   ],
   "source": [
    "import pyterrier as pt\n",
    "\n",
    "if not pt.started():\n",
    "  pt.init()"
   ]
  },
  {
   "cell_type": "code",
   "execution_count": 6,
   "metadata": {},
   "outputs": [
    {
     "name": "stderr",
     "output_type": "stream",
     "text": [
      "/workspace/.venv/lib/python3.11/site-packages/pyterrier/terrier/index.py:626: UserWarning: Indexing meta key body length requested 512 but exceeded in first document (actual length 3038). Increase the length in the meta dict for the indexer, e.g., pt.IterDictIndexer(..., meta={'body': 3038}).\n",
      "  warn(msg)\n",
      "wapo/v2 documents: 100%|██████████| 595037/595037 [04:55<00:00, 2014.40it/s]\n"
     ]
    }
   ],
   "source": [
    "index_location_wapo = \"./indices/wapo\"\n",
    "dataset_wapo = pt.get_dataset(\"irds:wapo/v2\")\n",
    "indexer_wapo = pt.IterDictIndexer(index_location_wapo, meta={\"body\":10000, \"docno\":36, \"title\": 100}, overwrite=True)\n",
    "\n",
    "index_ref = indexer_wapo.index(dataset_wapo.get_corpus_iter(), fields=['url', 'title', 'author', 'kicker', 'body'], meta=[\"docno\",\"body\",\"title\"])"
   ]
  },
  {
   "cell_type": "code",
   "execution_count": 6,
   "metadata": {},
   "outputs": [],
   "source": [
    "!cp -r /root/.ir_datasets/wapo /workspace/example_data/"
   ]
  },
  {
   "cell_type": "code",
   "execution_count": 5,
   "metadata": {},
   "outputs": [],
   "source": [
    "dataset_wapo_qrels = pt.get_dataset(\"irds:wapo/v2/trec-core-2018\")"
   ]
  },
  {
   "cell_type": "code",
   "execution_count": 6,
   "metadata": {},
   "outputs": [],
   "source": [
    "qrels = dataset_wapo_qrels.get_qrels()"
   ]
  },
  {
   "cell_type": "code",
   "execution_count": 9,
   "metadata": {},
   "outputs": [],
   "source": [
    "for index, row in qrels.iterrows():\n",
    "    filename = \"../example_data/wapo/wapo_qrels\"\n",
    "    # Format a single line for each row in the DataFrame\n",
    "    line = f\"{row['qid']} {row['iteration']} {row['docno']} {row['label']}\\n\"\n",
    "    # Open the file in append mode to write each line without overwriting\n",
    "    with open(filename, \"a\") as file:\n",
    "        file.write(line)"
   ]
  },
  {
   "cell_type": "code",
   "execution_count": 11,
   "metadata": {},
   "outputs": [
    {
     "name": "stdout",
     "output_type": "stream",
     "text": [
      "There are multiple query fields available: ('title', 'description', 'narrative'). To use with pyterrier, provide variant or modify dataframe to add query column.\n"
     ]
    }
   ],
   "source": [
    "topics = dataset_wapo_qrels.get_topics()"
   ]
  },
  {
   "cell_type": "code",
   "execution_count": 13,
   "metadata": {},
   "outputs": [],
   "source": [
    "!mkdir /workspace/example_data/wapo/topics"
   ]
  },
  {
   "cell_type": "code",
   "execution_count": 14,
   "metadata": {},
   "outputs": [],
   "source": [
    "for index,row in topics.iterrows():\n",
    "    filename = f\"../example_data/wapo/topics/topic.{row['qid']}\"\n",
    "    doc = row['title'] + \"\\n\\n\"+ row[\"description\"] + \"\\n\\n\" + row[\"narrative\"]\n",
    "    with open(f\"{filename}\", \"w\") as file:\n",
    "        file.write(doc)"
   ]
  },
  {
   "cell_type": "code",
   "execution_count": null,
   "metadata": {},
   "outputs": [],
   "source": []
  }
 ],
 "metadata": {
  "kernelspec": {
   "display_name": ".venv",
   "language": "python",
   "name": "python3"
  },
  "language_info": {
   "codemirror_mode": {
    "name": "ipython",
    "version": 3
   },
   "file_extension": ".py",
   "mimetype": "text/x-python",
   "name": "python",
   "nbconvert_exporter": "python",
   "pygments_lexer": "ipython3",
   "version": "3.11.2"
  }
 },
 "nbformat": 4,
 "nbformat_minor": 2
}
