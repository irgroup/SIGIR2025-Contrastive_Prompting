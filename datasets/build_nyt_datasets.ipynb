{
 "cells": [
  {
   "cell_type": "code",
   "execution_count": 1,
   "metadata": {},
   "outputs": [],
   "source": [
    "import ir_datasets\n",
    "\n",
    "dataset_nyt = ir_datasets.load(\"nyt\")"
   ]
  },
  {
   "cell_type": "code",
   "execution_count": 2,
   "metadata": {},
   "outputs": [],
   "source": [
    "docstore_nyt = dataset_nyt.docs_store()\n"
   ]
  },
  {
   "cell_type": "code",
   "execution_count": 3,
   "metadata": {},
   "outputs": [
    {
     "name": "stderr",
     "output_type": "stream",
     "text": [
      "/tmp/ipykernel_1857670/2060694631.py:3: DeprecationWarning: Call to deprecated function (or staticmethod) started. (use pt.java.started() instead) -- Deprecated since version 0.11.0.\n",
      "  if not pt.started():\n",
      "Java started and loaded: pyterrier.java, pyterrier.terrier.java [version=5.10 (build: craigm 2024-08-22 17:33), helper_version=0.0.8]\n",
      "/tmp/ipykernel_1857670/2060694631.py:4: DeprecationWarning: Call to deprecated method pt.init(). Deprecated since version 0.11.0.\n",
      "java is now started automatically with default settings. To force initialisation early, run:\n",
      "pt.java.init() # optional, forces java initialisation\n",
      "  pt.init()\n"
     ]
    }
   ],
   "source": [
    "import pyterrier as pt\n",
    "\n",
    "if not pt.started():\n",
    "  pt.init()"
   ]
  },
  {
   "cell_type": "code",
   "execution_count": 4,
   "metadata": {},
   "outputs": [
    {
     "name": "stderr",
     "output_type": "stream",
     "text": [
      "nyt documents:  11%|█         | 202489/1864661 [01:21<09:53, 2799.18it/s]"
     ]
    },
    {
     "name": "stdout",
     "output_type": "stream",
     "text": [
      "15:17:03.626 [ForkJoinPool-1-worker-1] WARN org.terrier.structures.indexing.Indexer -- Adding an empty document to the index (199543) - further warnings are suppressed\n"
     ]
    },
    {
     "name": "stderr",
     "output_type": "stream",
     "text": [
      "nyt documents: 100%|██████████| 1864661/1864661 [14:03<00:00, 2211.35it/s]\n"
     ]
    },
    {
     "name": "stdout",
     "output_type": "stream",
     "text": [
      "15:32:23.523 [ForkJoinPool-1-worker-1] WARN org.terrier.structures.indexing.Indexer -- Indexed 50 empty documents\n"
     ]
    }
   ],
   "source": [
    "index_location_nyt = \"./indices/nyt\"\n",
    "dataset_nyt = pt.get_dataset('irds:nyt')\n",
    "indexer_nyt = pt.IterDictIndexer(index_location_nyt, meta={\"docno\": 7, \"body\": 10000000, \"headline\": 1000}, overwrite=True)\n",
    "index_ref = indexer_nyt.index(dataset_nyt.get_corpus_iter(), fields=[\"headline\", \"body\"], meta=[\"docno\", \"body\", \"headline\"])"
   ]
  },
  {
   "cell_type": "code",
   "execution_count": null,
   "metadata": {},
   "outputs": [],
   "source": [
    "!cp -r /root/.ir_datasets/nyt /workspace/indices"
   ]
  },
  {
   "cell_type": "code",
   "execution_count": 22,
   "metadata": {},
   "outputs": [],
   "source": [
    "!mkdir /workspace/example_data/nyt\n",
    "!touch /workspace/example_data/nyt/nyt_qrels\n",
    "!mkdir /workspace/example_data/nyt/topics"
   ]
  },
  {
   "cell_type": "code",
   "execution_count": 18,
   "metadata": {},
   "outputs": [],
   "source": [
    "dataset_nyt_qrels = pt.get_dataset(\"irds:nyt/trec-core-2017\")"
   ]
  },
  {
   "cell_type": "code",
   "execution_count": null,
   "metadata": {},
   "outputs": [],
   "source": [
    "qrels = dataset_nyt_qrels.get_qrels()"
   ]
  },
  {
   "cell_type": "code",
   "execution_count": 23,
   "metadata": {},
   "outputs": [],
   "source": [
    "for index, row in qrels.iterrows():\n",
    "    filename = \"/workspace/example_data/nyt/nyt_qrels\"\n",
    "    # Format a single line for each row in the DataFrame\n",
    "    line = f\"{row['qid']} {row['iteration']} {row['docno']} {row['label']}\\n\"\n",
    "    # Open the file in append mode to write each line without overwriting\n",
    "    with open(filename, \"a\") as file:\n",
    "        file.write(line)"
   ]
  },
  {
   "cell_type": "code",
   "execution_count": null,
   "metadata": {},
   "outputs": [],
   "source": [
    "topics = dataset_nyt_qrels.get_topics()"
   ]
  },
  {
   "cell_type": "code",
   "execution_count": 27,
   "metadata": {},
   "outputs": [],
   "source": [
    "for index,row in topics.iterrows():\n",
    "    filename = f\"../example_data/nyt/topics/topic.{row['qid']}\"\n",
    "    doc = row['title'] + \"\\n\\n\"+ row[\"description\"] + \"\\n\\n\" + row[\"narrative\"]\n",
    "    with open(f\"{filename}\", \"w\") as file:\n",
    "        file.write(doc)"
   ]
  },
  {
   "cell_type": "code",
   "execution_count": null,
   "metadata": {},
   "outputs": [],
   "source": []
  }
 ],
 "metadata": {
  "kernelspec": {
   "display_name": ".venv",
   "language": "python",
   "name": "python3"
  },
  "language_info": {
   "codemirror_mode": {
    "name": "ipython",
    "version": 3
   },
   "file_extension": ".py",
   "mimetype": "text/x-python",
   "name": "python",
   "nbconvert_exporter": "python",
   "pygments_lexer": "ipython3",
   "version": "3.11.2"
  }
 },
 "nbformat": 4,
 "nbformat_minor": 2
}
