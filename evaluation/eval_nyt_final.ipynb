{
 "cells": [
  {
   "cell_type": "code",
   "execution_count": null,
   "metadata": {},
   "outputs": [
    {
     "name": "stdout",
     "output_type": "stream",
     "text": [
      "number of log files: 500\n"
     ]
    }
   ],
   "source": [
    "import glob\n",
    "import pandas as pd\n",
    "def get_log_props(log_path):\n",
    "    parts = log_path.split('-')\n",
    "    if len(parts) > 5:\n",
    "        topic = parts[1]\n",
    "        depth = parts[2].split('user')[-1]\n",
    "        modality = parts[3]\n",
    "        strat = parts[4]\n",
    "        prob = parts[5].split(\".\")[0]\n",
    "\n",
    "        return (topic, depth, modality, strat, prob)\n",
    "    else:\n",
    "        return \n",
    "\n",
    "corpus = \"nyt\"\n",
    "\n",
    "log_root_path = \"../example_sims/output_nyt/\"\n",
    "\n",
    "log_files = glob.glob(f\"{log_root_path}{corpus}*.log\")\n",
    "topics = set()\n",
    "depths = set()\n",
    "modalities  = set()\n",
    "strats = set()\n",
    "probs = set()\n",
    "\n",
    "log_cnt = 0\n",
    "\n",
    "log_df = pd.DataFrame(columns=['Depth', 'Modality', 'Strat', 'Probability', 'Topics'])\n",
    "\n",
    "for path in log_files:\n",
    "    res = get_log_props(path)\n",
    "\n",
    "    if res:\n",
    "        log_cnt +=1\n",
    "        topic, depth, modality, strat, prob = res\n",
    "        topics.add(topic)\n",
    "        depths.add(depth)\n",
    "        modalities.add(modality)\n",
    "        strats.add(strat)\n",
    "        probs.add(prob)\n",
    "\n",
    "        row = {'Depth' : depth, 'Modality': modality, 'Strat' : strat, 'Probability' : prob,  'Topics' : topic}\n",
    "        log_df = pd.concat([log_df, pd.DataFrame([row])])\n",
    "\n",
    "\n",
    "print(f\"number of log files: {log_cnt}\")\n"
   ]
  },
  {
   "cell_type": "code",
   "execution_count": 6,
   "metadata": {},
   "outputs": [
    {
     "data": {
      "text/html": [
       "<div>\n",
       "<style scoped>\n",
       "    .dataframe tbody tr th:only-of-type {\n",
       "        vertical-align: middle;\n",
       "    }\n",
       "\n",
       "    .dataframe tbody tr th {\n",
       "        vertical-align: top;\n",
       "    }\n",
       "\n",
       "    .dataframe thead th {\n",
       "        text-align: right;\n",
       "    }\n",
       "</style>\n",
       "<table border=\"1\" class=\"dataframe\">\n",
       "  <thead>\n",
       "    <tr style=\"text-align: right;\">\n",
       "      <th></th>\n",
       "      <th>Depth</th>\n",
       "      <th>Modality</th>\n",
       "      <th>Strat</th>\n",
       "      <th>Probability</th>\n",
       "      <th>Topics</th>\n",
       "    </tr>\n",
       "  </thead>\n",
       "  <tbody>\n",
       "    <tr>\n",
       "      <th>0</th>\n",
       "      <td>307</td>\n",
       "      <td>llama</td>\n",
       "      <td>irreldocs</td>\n",
       "      <td>120td</td>\n",
       "      <td>bm25</td>\n",
       "    </tr>\n",
       "    <tr>\n",
       "      <th>0</th>\n",
       "      <td>307</td>\n",
       "      <td>llama</td>\n",
       "      <td>perfect</td>\n",
       "      <td>120td</td>\n",
       "      <td>bm25</td>\n",
       "    </tr>\n",
       "    <tr>\n",
       "      <th>0</th>\n",
       "      <td>307</td>\n",
       "      <td>llama</td>\n",
       "      <td>perfect_pre</td>\n",
       "      <td>120td</td>\n",
       "      <td>bm25</td>\n",
       "    </tr>\n",
       "    <tr>\n",
       "      <th>0</th>\n",
       "      <td>307</td>\n",
       "      <td>llama</td>\n",
       "      <td>contrastive</td>\n",
       "      <td>120td</td>\n",
       "      <td>bm25</td>\n",
       "    </tr>\n",
       "    <tr>\n",
       "      <th>0</th>\n",
       "      <td>307</td>\n",
       "      <td>llama</td>\n",
       "      <td>reldocs</td>\n",
       "      <td>120td</td>\n",
       "      <td>bm25</td>\n",
       "    </tr>\n",
       "    <tr>\n",
       "      <th>...</th>\n",
       "      <td>...</td>\n",
       "      <td>...</td>\n",
       "      <td>...</td>\n",
       "      <td>...</td>\n",
       "      <td>...</td>\n",
       "    </tr>\n",
       "    <tr>\n",
       "      <th>0</th>\n",
       "      <td>690</td>\n",
       "      <td>llama</td>\n",
       "      <td>minimal</td>\n",
       "      <td>120td</td>\n",
       "      <td>bm25</td>\n",
       "    </tr>\n",
       "    <tr>\n",
       "      <th>0</th>\n",
       "      <td>690</td>\n",
       "      <td>llama</td>\n",
       "      <td>perfect_pre</td>\n",
       "      <td>120td</td>\n",
       "      <td>bm25</td>\n",
       "    </tr>\n",
       "    <tr>\n",
       "      <th>0</th>\n",
       "      <td>690</td>\n",
       "      <td>llama</td>\n",
       "      <td>contrastive_no_trec</td>\n",
       "      <td>120td</td>\n",
       "      <td>bm25</td>\n",
       "    </tr>\n",
       "    <tr>\n",
       "      <th>0</th>\n",
       "      <td>690</td>\n",
       "      <td>llama</td>\n",
       "      <td>random</td>\n",
       "      <td>120td</td>\n",
       "      <td>bm25</td>\n",
       "    </tr>\n",
       "    <tr>\n",
       "      <th>0</th>\n",
       "      <td>690</td>\n",
       "      <td>llama</td>\n",
       "      <td>random_pre</td>\n",
       "      <td>120td</td>\n",
       "      <td>bm25</td>\n",
       "    </tr>\n",
       "  </tbody>\n",
       "</table>\n",
       "<p>500 rows × 5 columns</p>\n",
       "</div>"
      ],
      "text/plain": [
       "   Depth Modality                Strat Probability Topics\n",
       "0    307    llama            irreldocs       120td   bm25\n",
       "0    307    llama              perfect       120td   bm25\n",
       "0    307    llama          perfect_pre       120td   bm25\n",
       "0    307    llama          contrastive       120td   bm25\n",
       "0    307    llama              reldocs       120td   bm25\n",
       "..   ...      ...                  ...         ...    ...\n",
       "0    690    llama              minimal       120td   bm25\n",
       "0    690    llama          perfect_pre       120td   bm25\n",
       "0    690    llama  contrastive_no_trec       120td   bm25\n",
       "0    690    llama               random       120td   bm25\n",
       "0    690    llama           random_pre       120td   bm25\n",
       "\n",
       "[500 rows x 5 columns]"
      ]
     },
     "execution_count": 6,
     "metadata": {},
     "output_type": "execute_result"
    }
   ],
   "source": [
    "log_df.sort_values(by=[\"Depth\"])"
   ]
  },
  {
   "attachments": {},
   "cell_type": "markdown",
   "metadata": {},
   "source": [
    "# Evaluations"
   ]
  },
  {
   "attachments": {},
   "cell_type": "markdown",
   "metadata": {},
   "source": [
    "## Modalities"
   ]
  },
  {
   "attachments": {},
   "cell_type": "markdown",
   "metadata": {},
   "source": [
    "### sDCG "
   ]
  },
  {
   "cell_type": "code",
   "execution_count": 7,
   "metadata": {},
   "outputs": [],
   "source": [
    "topics = list(set([int(log.split('-')[2]) for log in log_files]))"
   ]
  },
  {
   "cell_type": "code",
   "execution_count": 8,
   "metadata": {},
   "outputs": [],
   "source": [
    "topics_to_analyze = topics"
   ]
  },
  {
   "cell_type": "code",
   "execution_count": null,
   "metadata": {},
   "outputs": [
    {
     "data": {
      "text/plain": [
       "50"
      ]
     },
     "execution_count": 5,
     "metadata": {},
     "output_type": "execute_result"
    }
   ],
   "source": [
    "len(topics_to_analyze)"
   ]
  },
  {
   "attachments": {},
   "cell_type": "markdown",
   "metadata": {},
   "source": [
    "### Effort vs. Effect"
   ]
  },
  {
   "attachments": {},
   "cell_type": "markdown",
   "metadata": {},
   "source": [
    "## Depth evaluation"
   ]
  },
  {
   "attachments": {},
   "cell_type": "markdown",
   "metadata": {},
   "source": [
    "### sDCG"
   ]
  },
  {
   "attachments": {},
   "cell_type": "markdown",
   "metadata": {},
   "source": [
    "### Effort vs. Effect"
   ]
  },
  {
   "cell_type": "code",
   "execution_count": null,
   "metadata": {},
   "outputs": [
    {
     "name": "stderr",
     "output_type": "stream",
     "text": [
      "/tmp/ipykernel_3563210/2045575477.py:95: FutureWarning: DataFrame.fillna with 'method' is deprecated and will raise in a future version. Use obj.ffill() or obj.bfill() instead.\n",
      "  depth_eval[adjusted_depth] = pd.DataFrame.from_dict(gain_all).sort_index().fillna(method='ffill').T.mean().to_dict()\n",
      "/tmp/ipykernel_3563210/2045575477.py:95: FutureWarning: DataFrame.fillna with 'method' is deprecated and will raise in a future version. Use obj.ffill() or obj.bfill() instead.\n",
      "  depth_eval[adjusted_depth] = pd.DataFrame.from_dict(gain_all).sort_index().fillna(method='ffill').T.mean().to_dict()\n",
      "/tmp/ipykernel_3563210/2045575477.py:95: FutureWarning: DataFrame.fillna with 'method' is deprecated and will raise in a future version. Use obj.ffill() or obj.bfill() instead.\n",
      "  depth_eval[adjusted_depth] = pd.DataFrame.from_dict(gain_all).sort_index().fillna(method='ffill').T.mean().to_dict()\n",
      "/tmp/ipykernel_3563210/2045575477.py:95: FutureWarning: DataFrame.fillna with 'method' is deprecated and will raise in a future version. Use obj.ffill() or obj.bfill() instead.\n",
      "  depth_eval[adjusted_depth] = pd.DataFrame.from_dict(gain_all).sort_index().fillna(method='ffill').T.mean().to_dict()\n",
      "/tmp/ipykernel_3563210/2045575477.py:95: FutureWarning: DataFrame.fillna with 'method' is deprecated and will raise in a future version. Use obj.ffill() or obj.bfill() instead.\n",
      "  depth_eval[adjusted_depth] = pd.DataFrame.from_dict(gain_all).sort_index().fillna(method='ffill').T.mean().to_dict()\n",
      "/tmp/ipykernel_3563210/2045575477.py:95: FutureWarning: DataFrame.fillna with 'method' is deprecated and will raise in a future version. Use obj.ffill() or obj.bfill() instead.\n",
      "  depth_eval[adjusted_depth] = pd.DataFrame.from_dict(gain_all).sort_index().fillna(method='ffill').T.mean().to_dict()\n",
      "/tmp/ipykernel_3563210/2045575477.py:95: FutureWarning: DataFrame.fillna with 'method' is deprecated and will raise in a future version. Use obj.ffill() or obj.bfill() instead.\n",
      "  depth_eval[adjusted_depth] = pd.DataFrame.from_dict(gain_all).sort_index().fillna(method='ffill').T.mean().to_dict()\n",
      "/tmp/ipykernel_3563210/2045575477.py:95: FutureWarning: DataFrame.fillna with 'method' is deprecated and will raise in a future version. Use obj.ffill() or obj.bfill() instead.\n",
      "  depth_eval[adjusted_depth] = pd.DataFrame.from_dict(gain_all).sort_index().fillna(method='ffill').T.mean().to_dict()\n",
      "/tmp/ipykernel_3563210/2045575477.py:96: FutureWarning: DataFrame.fillna with 'method' is deprecated and will raise in a future version. Use obj.ffill() or obj.bfill() instead.\n",
      "  pd.DataFrame.from_dict(depth_eval).sort_index().fillna(method='ffill').plot(xlabel='Effort', ylabel='Effect', figsize=(4,4))\n"
     ]
    },
    {
     "data": {
      "image/png": "[encoded data removed]",
      "text/plain": [
       "<Figure size 400x400 with 1 Axes>"
      ]
     },
     "metadata": {},
     "output_type": "display_data"
    }
   ],
   "source": [
    "import math\n",
    "import pandas as pd\n",
    "import matplotlib.pyplot as plt\n",
    "import seaborn as sns \n",
    "import os\n",
    "\n",
    "sns.set_style('darkgrid')\n",
    "\n",
    "qrels_path = f\"{corpus}_qrels\"\n",
    "\n",
    "qrels = {}\n",
    "with open(qrels_path) as f_in:\n",
    "    for line in f_in.readlines():\n",
    "        parts = line.split(' ')\n",
    "        #print(parts)\n",
    "        #if parts[0] in topics_to_analyze:\n",
    "        qrels[(parts[0],parts[2])] = parts[3]\n",
    "\n",
    "depth_eval = {}\n",
    "gain_all = {}\n",
    "\n",
    "q_strats = [\"llama\"]\n",
    "snippets = [\"artificial\", \"minimal\",\"random\", \"random_pre\", \"reldocs\",\"irreldocs\", \"contrastive\", \"contrastive_no_trec\"]\n",
    "stop_decs = ['120td']\n",
    "models = ['bm25']\n",
    "\n",
    "depth_mapping = {\n",
    "    'artificial': 'FTTC',\n",
    "    'minimal': 'TTT',\n",
    "    'random': 'RND',\n",
    "    'random_pre' : 'RND*',\n",
    "    'reldocs' : 'PRF',\n",
    "    'irreldocs': 'NRF',\n",
    "    'contrastive' : 'CRF',\n",
    "    'contrastive_no_trec' : \"CRF'\",\n",
    "}\n",
    "q_strat = q_strats[0]\n",
    "model = models[0]\n",
    "stop_dec = stop_decs[0]\n",
    "snippet = snippets[1]\n",
    "\n",
    "depths = snippets\n",
    "\n",
    "for depth in depths:\n",
    "\n",
    "    for topic in topics_to_analyze:\n",
    "        \n",
    "        log_path = log_root_path + f\"{corpus}\" +\"-\"+ model + \"-\" + str(topic) + \"-\" + q_strat + \"-\"+ depth + \"-\"  + stop_dec+ \".log\"\n",
    "        query_logs = {}\n",
    "                    \n",
    "        query = ''\n",
    "        results = []\n",
    "        \n",
    "        _gain = 0\n",
    "        gain = {}   \n",
    "        with open(log_path) as f_in:\n",
    "            for line in f_in.readlines():\n",
    "                logs = line.split(' ')\n",
    "                if len(logs) > 4 and logs[0] == 'ACTION':\n",
    "                    if logs[1] == 'MARK' and logs[4] == 'CONSIDERED_RELEVANT':\n",
    "                        result = logs[-1].strip('\\n')\n",
    "                        \n",
    "                        if qrels.get((str(topic),result)):\n",
    "                            _gain += int(qrels.get((str(topic),result)))\n",
    "                    if True or int(logs[3]) < 300:\n",
    "                        gain[int(logs[3])] = _gain\n",
    "        gain_all[topic] = gain\n",
    "    adjusted_depth = depth_mapping.get(depth, depth)  \n",
    "    depth_eval[adjusted_depth] = pd.DataFrame.from_dict(gain_all).sort_index().fillna(method='ffill').T.mean().to_dict()\n",
    "pd.DataFrame.from_dict(depth_eval).sort_index().fillna(method='ffill').plot(xlabel='Effort', ylabel='Effect', figsize=(4,4))\n",
    "\n",
    "aspects = [q_strat, model, stop_dec, corpus]\n",
    "fig_name = f'../figures/effort.effect.'\n",
    "for aspect in aspects:\n",
    "    if aspect not in depths:\n",
    "        fig_name += f\"{aspect}.\"\n",
    "    else:\n",
    "        fig_name += \".\".join(depths) + \".\"\n",
    "\n",
    "fig_name += \"pdf\"\n",
    "plt.savefig(fig_name, bbox_inches=\"tight\")\n",
    "plt.show()\n"
   ]
  },
  {
   "cell_type": "code",
   "execution_count": null,
   "metadata": {},
   "outputs": [
    {
     "name": "stdout",
     "output_type": "stream",
     "text": [
      "['artificial', 'minimal', 'random', 'random_pre', 'reldocs', 'irreldocs', 'contrastive', 'contrastive_no_trec']\n"
     ]
    },
    {
     "name": "stderr",
     "output_type": "stream",
     "text": [
      "/tmp/ipykernel_3563210/3009309860.py:67: FutureWarning: DataFrame.fillna with 'method' is deprecated and will raise in a future version. Use obj.ffill() or obj.bfill() instead.\n",
      "  depth_eval[adjusted_depth] = pd.DataFrame.from_dict(gain_all).sort_index().fillna(method='ffill').T.mean().to_dict()\n",
      "/tmp/ipykernel_3563210/3009309860.py:67: FutureWarning: DataFrame.fillna with 'method' is deprecated and will raise in a future version. Use obj.ffill() or obj.bfill() instead.\n",
      "  depth_eval[adjusted_depth] = pd.DataFrame.from_dict(gain_all).sort_index().fillna(method='ffill').T.mean().to_dict()\n",
      "/tmp/ipykernel_3563210/3009309860.py:67: FutureWarning: DataFrame.fillna with 'method' is deprecated and will raise in a future version. Use obj.ffill() or obj.bfill() instead.\n",
      "  depth_eval[adjusted_depth] = pd.DataFrame.from_dict(gain_all).sort_index().fillna(method='ffill').T.mean().to_dict()\n",
      "/tmp/ipykernel_3563210/3009309860.py:67: FutureWarning: DataFrame.fillna with 'method' is deprecated and will raise in a future version. Use obj.ffill() or obj.bfill() instead.\n",
      "  depth_eval[adjusted_depth] = pd.DataFrame.from_dict(gain_all).sort_index().fillna(method='ffill').T.mean().to_dict()\n",
      "/tmp/ipykernel_3563210/3009309860.py:67: FutureWarning: DataFrame.fillna with 'method' is deprecated and will raise in a future version. Use obj.ffill() or obj.bfill() instead.\n",
      "  depth_eval[adjusted_depth] = pd.DataFrame.from_dict(gain_all).sort_index().fillna(method='ffill').T.mean().to_dict()\n",
      "/tmp/ipykernel_3563210/3009309860.py:67: FutureWarning: DataFrame.fillna with 'method' is deprecated and will raise in a future version. Use obj.ffill() or obj.bfill() instead.\n",
      "  depth_eval[adjusted_depth] = pd.DataFrame.from_dict(gain_all).sort_index().fillna(method='ffill').T.mean().to_dict()\n",
      "/tmp/ipykernel_3563210/3009309860.py:67: FutureWarning: DataFrame.fillna with 'method' is deprecated and will raise in a future version. Use obj.ffill() or obj.bfill() instead.\n",
      "  depth_eval[adjusted_depth] = pd.DataFrame.from_dict(gain_all).sort_index().fillna(method='ffill').T.mean().to_dict()\n",
      "/tmp/ipykernel_3563210/3009309860.py:67: FutureWarning: DataFrame.fillna with 'method' is deprecated and will raise in a future version. Use obj.ffill() or obj.bfill() instead.\n",
      "  depth_eval[adjusted_depth] = pd.DataFrame.from_dict(gain_all).sort_index().fillna(method='ffill').T.mean().to_dict()\n",
      "/tmp/ipykernel_3563210/3009309860.py:68: FutureWarning: DataFrame.fillna with 'method' is deprecated and will raise in a future version. Use obj.ffill() or obj.bfill() instead.\n",
      "  pd.DataFrame.from_dict(depth_eval).sort_index().fillna(method='ffill').plot(xlabel='Queries', ylabel='sDCG', figsize=(4,4))\n"
     ]
    },
    {
     "data": {
      "image/png": "[encoded data removed]",
      "text/plain": [
       "<Figure size 400x400 with 1 Axes>"
      ]
     },
     "metadata": {},
     "output_type": "display_data"
    }
   ],
   "source": [
    "import math\n",
    "import pandas as pd\n",
    "import matplotlib.pyplot as plt\n",
    "import seaborn as sns \n",
    "sns.set_style('darkgrid')\n",
    "\n",
    "qrels_path = f\"{corpus}_qrels\"\n",
    "\n",
    "qrels = {}\n",
    "with open(qrels_path) as f_in:\n",
    "    for line in f_in.readlines():\n",
    "        parts = line.split(' ')\n",
    "        qrels[(parts[0],parts[2])] = parts[3]\n",
    "\n",
    "def dcg(results, topic):\n",
    "    _dcg = 0\n",
    "    for i,result in enumerate(results):\n",
    "        _doc = qrels.get((str(topic),result))\n",
    "        \n",
    "        if _doc is not None:\n",
    "            _dcg += int(_doc) / (1 + math.log(i+1, b))\n",
    "\n",
    "    return _dcg\n",
    "\n",
    "b = 2\n",
    "bq = 4\n",
    "\n",
    "depth_eval = {}\n",
    "gain_all = {}\n",
    "print(depths)\n",
    "\n",
    "for depth in depths:\n",
    "    for topic in topics_to_analyze:\n",
    "\n",
    "        log_path = log_root_path + f\"{corpus}\" +\"-\"+ model + \"-\" + str(topic) + \"-\" + q_strat + \"-\"+ depth + \"-\"  + stop_dec+ \".log\"\n",
    "        query_logs = {}\n",
    "\n",
    "        query = ''\n",
    "        results = []\n",
    "                        \n",
    "        with open(log_path) as f_in:\n",
    "\n",
    "            for line in f_in.readlines():\n",
    "                logs = line.split(' ')\n",
    "\n",
    "                if logs[1] == 'QUERY':\n",
    "                    if len(query) > 0:\n",
    "                        query_logs[query] = results\n",
    "                    results = []\n",
    "                    query = ' '.join(logs[4:]).strip('\\n')\n",
    "                    \n",
    "                if logs[1] == 'MARK' and logs[4] == 'CONSIDERED_RELEVANT':\n",
    "                    results.append(logs[-1].replace(\"b'\", \"\").replace(\"'\", \"\").strip('\\n'))      \n",
    "\n",
    "        gain = {}\n",
    "        _gain = 0.0\n",
    "\n",
    "        for q, query in enumerate(query_logs.keys()):\n",
    "            results = query_logs.get(query)    \n",
    "            _gain += dcg(results, topic) / (1 + math.log(q + 1, bq))\n",
    "            gain[q+1] = _gain\n",
    "\n",
    "        gain_all[topic] = gain\n",
    "    adjusted_depth = depth_mapping.get(depth, depth)\n",
    "    depth_eval[adjusted_depth] = pd.DataFrame.from_dict(gain_all).sort_index().fillna(method='ffill').T.mean().to_dict()\n",
    "pd.DataFrame.from_dict(depth_eval).sort_index().fillna(method='ffill').plot(xlabel='Queries', ylabel='sDCG', figsize=(4,4))\n",
    "\n",
    "aspects = [q_strat, model, stop_dec, corpus]\n",
    "fig_name = f'../figures/sDCG.no_trec'\n",
    "for aspect in aspects:\n",
    "    if aspect not in depths:\n",
    "        fig_name += f\"{aspect}.\"\n",
    "    else:\n",
    "        fig_name += \".\".join(depths)+ \".\"\n",
    "\n",
    "fig_name += \"pdf\"\n",
    "plt.savefig(fig_name, bbox_inches=\"tight\") \n",
    "plt.show()"
   ]
  }
 ],
 "metadata": {
  "kernelspec": {
   "display_name": ".venv",
   "language": "python",
   "name": "python3"
  },
  "language_info": {
   "codemirror_mode": {
    "name": "ipython",
    "version": 3
   },
   "file_extension": ".py",
   "mimetype": "text/x-python",
   "name": "python",
   "nbconvert_exporter": "python",
   "pygments_lexer": "ipython3",
   "version": "3.11.2"
  },
  "orig_nbformat": 4
 },
 "nbformat": 4,
 "nbformat_minor": 2
}
